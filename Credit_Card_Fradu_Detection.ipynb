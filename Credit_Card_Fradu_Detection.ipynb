{
  "nbformat": 4,
  "nbformat_minor": 0,
  "metadata": {
    "colab": {
      "private_outputs": true,
      "provenance": []
    },
    "kernelspec": {
      "name": "python3",
      "display_name": "Python 3"
    },
    "language_info": {
      "name": "python"
    }
  },
  "cells": [
    {
      "cell_type": "code",
      "execution_count": null,
      "metadata": {
        "id": "sBGxQjLlKLit"
      },
      "outputs": [],
      "source": [
        "## Data Download Link \"https://drive.google.com/drive/folders/16RQztUqCfJOlbooHqYlJrp6Q7iL65uZB\""
      ]
    },
    {
      "cell_type": "code",
      "source": [
        "import pandas as pd\n",
        "import numpy as np\n",
        "import seaborn as sns\n",
        "import matplotlib.pyplot as plt\n",
        "from sklearn.model_selection import train_test_split"
      ],
      "metadata": {
        "id": "9AvRU2uWLIOs"
      },
      "execution_count": null,
      "outputs": []
    },
    {
      "cell_type": "code",
      "source": [
        "data = pd.read_csv('/content/application_data.csv')"
      ],
      "metadata": {
        "id": "we1-qH1_LILM"
      },
      "execution_count": null,
      "outputs": []
    },
    {
      "cell_type": "code",
      "source": [
        "data_description = pd.read_csv('/content/columns_description.csv', encoding='latin1')"
      ],
      "metadata": {
        "id": "hUc4VoxeLIHM"
      },
      "execution_count": null,
      "outputs": []
    },
    {
      "cell_type": "code",
      "source": [
        "data.head()"
      ],
      "metadata": {
        "id": "LEMKXaeJLIDE"
      },
      "execution_count": null,
      "outputs": []
    },
    {
      "cell_type": "code",
      "source": [
        "data.shape"
      ],
      "metadata": {
        "id": "_GqbltKBLH_V"
      },
      "execution_count": null,
      "outputs": []
    },
    {
      "cell_type": "code",
      "source": [
        "data.isnull().sum()"
      ],
      "metadata": {
        "id": "MkqdEoqvLH69"
      },
      "execution_count": null,
      "outputs": []
    },
    {
      "cell_type": "code",
      "source": [
        "data.duplicated().sum()"
      ],
      "metadata": {
        "id": "Qe6uSuhoMJNm"
      },
      "execution_count": null,
      "outputs": []
    },
    {
      "cell_type": "code",
      "source": [
        "data.info()"
      ],
      "metadata": {
        "id": "DDiTWa4GMOpu"
      },
      "execution_count": null,
      "outputs": []
    },
    {
      "cell_type": "code",
      "source": [
        "data_columns = data.columns.tolist()\n",
        "\n",
        "columns = []\n",
        "\n",
        "with open('column_names.txt', 'w') as f:\n",
        "    for column in data_columns:\n",
        "        values = f'{column}: {data[column].isnull().sum()}: {data[column].dtype}'\n",
        "        columns.append(values)"
      ],
      "metadata": {
        "id": "cm_aV_FFMRsm"
      },
      "execution_count": null,
      "outputs": []
    },
    {
      "cell_type": "code",
      "source": [
        "columns"
      ],
      "metadata": {
        "id": "IbN0nLcfMS8V"
      },
      "execution_count": null,
      "outputs": []
    },
    {
      "cell_type": "code",
      "source": [
        "correlation = []\n",
        "\n",
        "with open('column_names.txt', 'w') as f:\n",
        "    for column in data_columns:\n",
        "        if data[column].dtype == 'int64' or data[column].dtype == 'float64':\n",
        "            correlation.append(f\"{column}: {data[column].corr(data['TARGET'])}\")"
      ],
      "metadata": {
        "id": "_RvGs6QiMS4k"
      },
      "execution_count": null,
      "outputs": []
    },
    {
      "cell_type": "code",
      "source": [
        "correlation"
      ],
      "metadata": {
        "id": "-QFcby9qMS08"
      },
      "execution_count": null,
      "outputs": []
    },
    {
      "cell_type": "code",
      "source": [
        "data['TARGET'].value_counts().plot(kind='bar')"
      ],
      "metadata": {
        "id": "AiQQ3NkIMSxl"
      },
      "execution_count": null,
      "outputs": []
    },
    {
      "cell_type": "code",
      "source": [
        "data['TARGET'].value_counts()"
      ],
      "metadata": {
        "id": "MiXvs5gBMStc"
      },
      "execution_count": null,
      "outputs": []
    },
    {
      "cell_type": "code",
      "source": [
        "sns.barplot(x=data['NAME_CONTRACT_TYPE'], y=data['TARGET'])"
      ],
      "metadata": {
        "id": "58ZSSpbGO1ls"
      },
      "execution_count": null,
      "outputs": []
    },
    {
      "cell_type": "code",
      "source": [
        "data['CODE_GENDER'].value_counts().plot(kind='bar')"
      ],
      "metadata": {
        "id": "KR8Hoea1O1hl"
      },
      "execution_count": null,
      "outputs": []
    },
    {
      "cell_type": "code",
      "source": [
        "sns.barplot(x=data['CODE_GENDER'], y=data['TARGET'])"
      ],
      "metadata": {
        "id": "23EAzeiNO1dc"
      },
      "execution_count": null,
      "outputs": []
    },
    {
      "cell_type": "code",
      "source": [
        "data['FLAG_OWN_CAR'].value_counts().plot(kind='bar')"
      ],
      "metadata": {
        "id": "_0EmVpJUO1ZE"
      },
      "execution_count": null,
      "outputs": []
    },
    {
      "cell_type": "code",
      "source": [
        "sns.barplot(x=data['FLAG_OWN_CAR'], y=data['TARGET'])"
      ],
      "metadata": {
        "id": "HZV4bAezO1Ud"
      },
      "execution_count": null,
      "outputs": []
    },
    {
      "cell_type": "code",
      "source": [
        "data['FLAG_OWN_REALTY'].value_counts().plot(kind='bar')"
      ],
      "metadata": {
        "id": "EoJqR3KWUUB3"
      },
      "execution_count": null,
      "outputs": []
    },
    {
      "cell_type": "code",
      "source": [
        "sns.barplot(x=data['FLAG_OWN_REALTY'], y=data['TARGET'])"
      ],
      "metadata": {
        "id": "Yp6oPYwoUT-J"
      },
      "execution_count": null,
      "outputs": []
    },
    {
      "cell_type": "code",
      "source": [
        "sns.scatterplot(data['AMT_INCOME_TOTAL'])"
      ],
      "metadata": {
        "id": "x7yy4gjpUT6Q"
      },
      "execution_count": null,
      "outputs": []
    },
    {
      "cell_type": "code",
      "source": [
        "sns.scatterplot(data['AMT_CREDIT'])"
      ],
      "metadata": {
        "id": "QeNjwQ_lUT24"
      },
      "execution_count": null,
      "outputs": []
    },
    {
      "cell_type": "code",
      "source": [
        "sns.distplot(data['AMT_INCOME_TOTAL'])"
      ],
      "metadata": {
        "id": "0I63pg8jUTzY"
      },
      "execution_count": null,
      "outputs": []
    },
    {
      "cell_type": "code",
      "source": [
        "data['AMT_INCOME_TOTAL'].mean()"
      ],
      "metadata": {
        "id": "nN8wCUKcUTvn"
      },
      "execution_count": null,
      "outputs": []
    },
    {
      "cell_type": "code",
      "source": [
        "data['AMT_CREDIT'].mean()"
      ],
      "metadata": {
        "id": "doYD8R1NUTro"
      },
      "execution_count": null,
      "outputs": []
    },
    {
      "cell_type": "code",
      "source": [
        "sns.scatterplot(data['CNT_CHILDREN'])"
      ],
      "metadata": {
        "id": "thWF2-z8Uksn"
      },
      "execution_count": null,
      "outputs": []
    },
    {
      "cell_type": "code",
      "source": [
        "data['CNT_CHILDREN'].max()"
      ],
      "metadata": {
        "id": "qZb2m0D4Uko3"
      },
      "execution_count": null,
      "outputs": []
    },
    {
      "cell_type": "code",
      "source": [
        "sns.boxplot(data['CNT_CHILDREN'])"
      ],
      "metadata": {
        "id": "yiF1KencUklH"
      },
      "execution_count": null,
      "outputs": []
    },
    {
      "cell_type": "code",
      "source": [
        "sns.boxplot(data['AMT_ANNUITY'])"
      ],
      "metadata": {
        "id": "PIw_r6IaUkg_"
      },
      "execution_count": null,
      "outputs": []
    },
    {
      "cell_type": "code",
      "source": [
        "data['NAME_EDUCATION_TYPE'].value_counts().plot(kind='bar')"
      ],
      "metadata": {
        "id": "yrJGP9BCUkc3"
      },
      "execution_count": null,
      "outputs": []
    },
    {
      "cell_type": "code",
      "source": [
        "sns.barplot(x=data['NAME_EDUCATION_TYPE'], y=data['TARGET'])\n",
        "plt.xticks(rotation='vertical')\n",
        "plt.show()"
      ],
      "metadata": {
        "id": "Gkuv_EJlUkYf"
      },
      "execution_count": null,
      "outputs": []
    },
    {
      "cell_type": "code",
      "source": [
        "data['FLAG_MOBIL'].value_counts()"
      ],
      "metadata": {
        "id": "ebElanJmUkWA"
      },
      "execution_count": null,
      "outputs": []
    },
    {
      "cell_type": "code",
      "source": [
        "data['FLAG_EMAIL'].value_counts()"
      ],
      "metadata": {
        "id": "q2RbQDOsUkRn"
      },
      "execution_count": null,
      "outputs": []
    },
    {
      "cell_type": "code",
      "source": [
        "sns.barplot(x=data['FLAG_EMAIL'], y=data['TARGET'])"
      ],
      "metadata": {
        "id": "_xVsv3iCUkNw"
      },
      "execution_count": null,
      "outputs": []
    },
    {
      "cell_type": "code",
      "source": [
        "data['OCCUPATION_TYPE'].value_counts()"
      ],
      "metadata": {
        "id": "TzaWUIauUkKo"
      },
      "execution_count": null,
      "outputs": []
    },
    {
      "cell_type": "code",
      "source": [
        "sns.barplot(x=data['OCCUPATION_TYPE'], y=data['TARGET'])\n",
        "plt.xticks(rotation='vertical')\n",
        "plt.show()"
      ],
      "metadata": {
        "id": "03-jVGa6UkG_"
      },
      "execution_count": null,
      "outputs": []
    },
    {
      "cell_type": "code",
      "source": [
        "data['DEF_30_CNT_SOCIAL_CIRCLE'].value_counts().plot(kind='bar')"
      ],
      "metadata": {
        "id": "4d7RS1xhUkDo"
      },
      "execution_count": null,
      "outputs": []
    },
    {
      "cell_type": "code",
      "source": [
        "data['REGION_RATING_CLIENT'].value_counts().plot(kind='bar')"
      ],
      "metadata": {
        "id": "Para4b0tUj_o"
      },
      "execution_count": null,
      "outputs": []
    },
    {
      "cell_type": "code",
      "source": [
        "sns.barplot(x=data['REGION_RATING_CLIENT'], y=data['TARGET'])\n",
        "plt.xticks(rotation='vertical')\n",
        "plt.show()"
      ],
      "metadata": {
        "id": "p1vpZykfU6D4"
      },
      "execution_count": null,
      "outputs": []
    },
    {
      "cell_type": "code",
      "source": [
        "data['REG_REGION_NOT_WORK_REGION'].value_counts()"
      ],
      "metadata": {
        "id": "jIyUF8B4U6AH"
      },
      "execution_count": null,
      "outputs": []
    },
    {
      "cell_type": "code",
      "source": [
        "sns.barplot(x=data['REG_REGION_NOT_WORK_REGION'], y=data['TARGET'])\n",
        "plt.xticks(rotation='vertical')\n",
        "plt.show()"
      ],
      "metadata": {
        "id": "ZlGZOrA7U58I"
      },
      "execution_count": null,
      "outputs": []
    },
    {
      "cell_type": "code",
      "source": [
        "data['DAYS_LAST_PHONE_CHANGE'].value_counts()"
      ],
      "metadata": {
        "id": "q8u7IE5fU54X"
      },
      "execution_count": null,
      "outputs": []
    },
    {
      "cell_type": "code",
      "source": [
        "data['DAYS_LAST_PHONE_CHANGE'].corr(data['TARGET'])"
      ],
      "metadata": {
        "id": "HWH21l3jU50Z"
      },
      "execution_count": null,
      "outputs": []
    },
    {
      "cell_type": "code",
      "source": [
        "data = data[['TARGET', 'NAME_CONTRACT_TYPE', 'CODE_GENDER', 'FLAG_OWN_CAR', 'AMT_INCOME_TOTAL',\n",
        "             'AMT_CREDIT', 'NAME_EDUCATION_TYPE', 'OCCUPATION_TYPE', 'CNT_FAM_MEMBERS',\n",
        "             'REGION_RATING_CLIENT', 'REG_REGION_NOT_WORK_REGION', 'DAYS_LAST_PHONE_CHANGE']]"
      ],
      "metadata": {
        "id": "yGx1zcV5U5w3"
      },
      "execution_count": null,
      "outputs": []
    },
    {
      "cell_type": "code",
      "source": [
        "data"
      ],
      "metadata": {
        "id": "oCCwNNRGU5s_"
      },
      "execution_count": null,
      "outputs": []
    },
    {
      "cell_type": "code",
      "source": [
        "data.isnull().sum()"
      ],
      "metadata": {
        "id": "3C5zMKpYU5mY"
      },
      "execution_count": null,
      "outputs": []
    },
    {
      "cell_type": "code",
      "source": [
        "data.dropna(inplace=True)"
      ],
      "metadata": {
        "id": "rOy7MoImU5io"
      },
      "execution_count": null,
      "outputs": []
    },
    {
      "cell_type": "code",
      "source": [
        "data.shape"
      ],
      "metadata": {
        "id": "7PT3eMb5VMD4"
      },
      "execution_count": null,
      "outputs": []
    },
    {
      "cell_type": "code",
      "source": [
        "data.info()"
      ],
      "metadata": {
        "id": "e9Ig0GV4VMAP"
      },
      "execution_count": null,
      "outputs": []
    },
    {
      "cell_type": "code",
      "source": [
        "numerical_columns = data.select_dtypes(include='number').columns\n",
        "sns.heatmap(data[numerical_columns].corr())"
      ],
      "metadata": {
        "id": "wS4wEByTVL8h"
      },
      "execution_count": null,
      "outputs": []
    },
    {
      "cell_type": "code",
      "source": [
        "data[numerical_columns].corr()"
      ],
      "metadata": {
        "id": "Hpz9V8rEVL5J"
      },
      "execution_count": null,
      "outputs": []
    },
    {
      "cell_type": "code",
      "source": [
        "X = data.drop(['TARGET'], axis=1)\n",
        "y = data['TARGET']"
      ],
      "metadata": {
        "id": "FksiIhdpVL1X"
      },
      "execution_count": null,
      "outputs": []
    },
    {
      "cell_type": "code",
      "source": [
        "X_train, X_test, y_train, y_test = train_test_split(X, y, test_size=0.2, random_state=2)"
      ],
      "metadata": {
        "id": "TzOrE959VLxg"
      },
      "execution_count": null,
      "outputs": []
    },
    {
      "cell_type": "code",
      "source": [
        "X_train.shape, y_train.shape"
      ],
      "metadata": {
        "id": "HTUQI-dnVLuI"
      },
      "execution_count": null,
      "outputs": []
    },
    {
      "cell_type": "code",
      "source": [
        "X_test.shape, y_test.shape"
      ],
      "metadata": {
        "id": "4-nZYoicVLqn"
      },
      "execution_count": null,
      "outputs": []
    },
    {
      "cell_type": "code",
      "source": [
        "X_train"
      ],
      "metadata": {
        "id": "xyMlxsRBVLm_"
      },
      "execution_count": null,
      "outputs": []
    },
    {
      "cell_type": "code",
      "source": [
        "from sklearn.preprocessing import StandardScaler, RobustScaler, OneHotEncoder, OrdinalEncoder\n",
        "from sklearn.pipeline import Pipeline\n",
        "from sklearn.compose import ColumnTransformer\n",
        "from sklearn.ensemble import RandomForestClassifier\n",
        "from sklearn.metrics import accuracy_score, precision_score, recall_score, f1_score"
      ],
      "metadata": {
        "id": "RaPNoJTmV394"
      },
      "execution_count": null,
      "outputs": []
    },
    {
      "cell_type": "code",
      "source": [
        "categorical_ohe = ['NAME_CONTRACT_TYPE', 'CODE_GENDER', 'FLAG_OWN_CAR']\n",
        "\n",
        "categorical_ohe_transformer = Pipeline(steps=[\n",
        "    ('ohe', OneHotEncoder(drop='first', handle_unknown='ignore'))\n",
        "])"
      ],
      "metadata": {
        "id": "ClZp-GGAVLjR"
      },
      "execution_count": null,
      "outputs": []
    },
    {
      "cell_type": "code",
      "source": [
        "categorical_oe = ['NAME_EDUCATION_TYPE', 'OCCUPATION_TYPE']\n",
        "\n",
        "categorical_oe_transformer = Pipeline(steps=[\n",
        "    ('ohe', OrdinalEncoder())\n",
        "])"
      ],
      "metadata": {
        "id": "rSm6dlaqWCSY"
      },
      "execution_count": null,
      "outputs": []
    },
    {
      "cell_type": "code",
      "source": [
        "numerical = ['AMT_INCOME_TOTAL', 'AMT_CREDIT', 'DAYS_LAST_PHONE_CHANGE']\n",
        "\n",
        "numerical_ss = Pipeline(steps=[\n",
        "    ('ss', StandardScaler())\n",
        "])"
      ],
      "metadata": {
        "id": "4e-Jf72tWHPh"
      },
      "execution_count": null,
      "outputs": []
    },
    {
      "cell_type": "code",
      "source": [
        "preprocessor = ColumnTransformer(\n",
        "    transformers=[\n",
        "        ('categorical_ohe_transformer', categorical_ohe_transformer, categorical_ohe),\n",
        "        ('categorical_oe_transformer', categorical_oe_transformer, categorical_oe),\n",
        "        ('numerical_ss', numerical_ss, numerical)\n",
        "])"
      ],
      "metadata": {
        "id": "b4z3zKWAWJ8y"
      },
      "execution_count": null,
      "outputs": []
    },
    {
      "cell_type": "code",
      "source": [
        "from sklearn.linear_model import LogisticRegression\n",
        "from sklearn.ensemble import RandomForestClassifier\n",
        "from xgboost import XGBClassifier"
      ],
      "metadata": {
        "id": "NLy3J7lvWMNq"
      },
      "execution_count": null,
      "outputs": []
    },
    {
      "cell_type": "code",
      "source": [
        "pipeline = Pipeline(steps=[\n",
        "    ('preprocessor', preprocessor),\n",
        "    ('classifier', LogisticRegression())\n",
        "])"
      ],
      "metadata": {
        "id": "GWMLAFOAXaPi"
      },
      "execution_count": null,
      "outputs": []
    },
    {
      "cell_type": "code",
      "source": [
        "pipeline.fit(X_train, y_train)"
      ],
      "metadata": {
        "id": "aKV5hhoJXcz5"
      },
      "execution_count": null,
      "outputs": []
    },
    {
      "cell_type": "code",
      "source": [
        "y_pred_test = pipeline.predict(X_test)\n",
        "\n",
        "print(\"Accuracy score for test data is \", accuracy_score(y_test, y_pred_test))\n",
        "print(\"Recall score of our Model is \", recall_score(y_test, y_pred_test))\n",
        "print(\"Precision Score of our Model is \", precision_score(y_test, y_pred_test))"
      ],
      "metadata": {
        "id": "IvJmJOs5XeNh"
      },
      "execution_count": null,
      "outputs": []
    },
    {
      "cell_type": "code",
      "source": [
        "pipeline = Pipeline(steps=[\n",
        "    ('preprocessor', preprocessor),\n",
        "    ('classifier', RandomForestClassifier())\n",
        "])\n",
        "\n",
        "pipeline.fit(X_train, y_train)"
      ],
      "metadata": {
        "id": "uIFWIvoKXg55"
      },
      "execution_count": null,
      "outputs": []
    },
    {
      "cell_type": "code",
      "source": [
        "y_pred_test = pipeline.predict(X_test)\n",
        "\n",
        "print(\"Accuracy score for test data is \", accuracy_score(y_test, y_pred_test))\n",
        "print(\"Recall score of our Model is \", recall_score(y_test, y_pred_test))\n",
        "print(\"Precision Score of our Model is \", precision_score(y_test, y_pred_test))"
      ],
      "metadata": {
        "id": "J4urDByVXzCp"
      },
      "execution_count": null,
      "outputs": []
    },
    {
      "cell_type": "code",
      "source": [
        "pipeline = Pipeline(steps=[\n",
        "    ('preprocessor', preprocessor),\n",
        "    ('classifier', XGBClassifier())\n",
        "])\n",
        "\n",
        "pipeline.fit(X_train, y_train)"
      ],
      "metadata": {
        "id": "grfOiefeX6Qg"
      },
      "execution_count": null,
      "outputs": []
    },
    {
      "cell_type": "code",
      "source": [
        "y_pred_test = pipeline.predict(X_test)\n",
        "\n",
        "print(\"Accuracy score for test data is \", accuracy_score(y_test, y_pred_test))\n",
        "print(\"Recall score of our Model is \", recall_score(y_test, y_pred_test))\n",
        "print(\"Precision Score of our Model is \", precision_score(y_test, y_pred_test))"
      ],
      "metadata": {
        "id": "F2OgMwJuX_6Z"
      },
      "execution_count": null,
      "outputs": []
    },
    {
      "cell_type": "code",
      "source": [],
      "metadata": {
        "id": "1MjvawDLYFeJ"
      },
      "execution_count": null,
      "outputs": []
    }
  ]
}